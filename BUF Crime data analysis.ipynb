{
 "cells": [
  {
   "cell_type": "markdown",
   "metadata": {},
   "source": [
    "## Step 1: Import required libraries"
   ]
  },
  {
   "cell_type": "code",
   "execution_count": 45,
   "metadata": {},
   "outputs": [],
   "source": [
    "import pandas as pd\n",
    "from datetime import datetime"
   ]
  },
  {
   "cell_type": "markdown",
   "metadata": {},
   "source": [
    "## Step 2: Data Import"
   ]
  },
  {
   "cell_type": "code",
   "execution_count": 46,
   "metadata": {},
   "outputs": [
    {
     "data": {
      "text/html": [
       "<div>\n",
       "<style scoped>\n",
       "    .dataframe tbody tr th:only-of-type {\n",
       "        vertical-align: middle;\n",
       "    }\n",
       "\n",
       "    .dataframe tbody tr th {\n",
       "        vertical-align: top;\n",
       "    }\n",
       "\n",
       "    .dataframe thead th {\n",
       "        text-align: right;\n",
       "    }\n",
       "</style>\n",
       "<table border=\"1\" class=\"dataframe\">\n",
       "  <thead>\n",
       "    <tr style=\"text-align: right;\">\n",
       "      <th></th>\n",
       "      <th>Case Number</th>\n",
       "      <th>Incident Datetime</th>\n",
       "      <th>Incident ID</th>\n",
       "      <th>Incident Type Primary</th>\n",
       "      <th>Incident Description</th>\n",
       "      <th>Parent Incident Type</th>\n",
       "      <th>Hour of Day</th>\n",
       "      <th>Day of Week</th>\n",
       "      <th>Address</th>\n",
       "      <th>City</th>\n",
       "      <th>...</th>\n",
       "      <th>Census Block Group</th>\n",
       "      <th>Census Block</th>\n",
       "      <th>2010 Census Tract</th>\n",
       "      <th>2010 Census Block Group</th>\n",
       "      <th>2010 Census Block</th>\n",
       "      <th>Police District</th>\n",
       "      <th>TRACTCE20</th>\n",
       "      <th>GEOID20_tract</th>\n",
       "      <th>GEOID20_blockgroup</th>\n",
       "      <th>GEOID20_block</th>\n",
       "    </tr>\n",
       "  </thead>\n",
       "  <tbody>\n",
       "    <tr>\n",
       "      <th>0</th>\n",
       "      <td>16-1660403</td>\n",
       "      <td>06/14/2016 01:20:00 AM</td>\n",
       "      <td>NaN</td>\n",
       "      <td>ASSAULT</td>\n",
       "      <td>ASSAULT</td>\n",
       "      <td>Assault</td>\n",
       "      <td>1</td>\n",
       "      <td>Tuesday</td>\n",
       "      <td>E AMHERST ST &amp; E AMHERST ST</td>\n",
       "      <td>Buffalo</td>\n",
       "      <td>...</td>\n",
       "      <td>2</td>\n",
       "      <td>2003</td>\n",
       "      <td>55</td>\n",
       "      <td>2</td>\n",
       "      <td>2005</td>\n",
       "      <td>District D</td>\n",
       "      <td>005500</td>\n",
       "      <td>36029005500</td>\n",
       "      <td>360290001102</td>\n",
       "      <td>360290170002003</td>\n",
       "    </tr>\n",
       "    <tr>\n",
       "      <th>1</th>\n",
       "      <td>16-3480266</td>\n",
       "      <td>12/13/2016 05:00:00 AM</td>\n",
       "      <td>NaN</td>\n",
       "      <td>LARCENY/THEFT</td>\n",
       "      <td>LARCENY/THEFT</td>\n",
       "      <td>Theft</td>\n",
       "      <td>5</td>\n",
       "      <td>Tuesday</td>\n",
       "      <td>1000 Block E LOVEJOY ST</td>\n",
       "      <td>Buffalo</td>\n",
       "      <td>...</td>\n",
       "      <td>4</td>\n",
       "      <td>4001</td>\n",
       "      <td>23</td>\n",
       "      <td>4</td>\n",
       "      <td>4001</td>\n",
       "      <td>District C</td>\n",
       "      <td>002300</td>\n",
       "      <td>36029002300</td>\n",
       "      <td>360290002004</td>\n",
       "      <td>360290034004001</td>\n",
       "    </tr>\n",
       "    <tr>\n",
       "      <th>2</th>\n",
       "      <td>20-2010167</td>\n",
       "      <td>07/19/2020 03:09:00 AM</td>\n",
       "      <td>NaN</td>\n",
       "      <td>ASSAULT</td>\n",
       "      <td>Buffalo Police are investigating this report o...</td>\n",
       "      <td>Assault</td>\n",
       "      <td>3</td>\n",
       "      <td>Sunday</td>\n",
       "      <td>GRIDER ST &amp; KENSINGTON WB</td>\n",
       "      <td>Buffalo</td>\n",
       "      <td>...</td>\n",
       "      <td>NaN</td>\n",
       "      <td>NaN</td>\n",
       "      <td>NaN</td>\n",
       "      <td>NaN</td>\n",
       "      <td>NaN</td>\n",
       "      <td>NaN</td>\n",
       "      <td>UNKNOWN</td>\n",
       "      <td>UNKNOWN</td>\n",
       "      <td>UNKNOWN</td>\n",
       "      <td>UNKNOWN</td>\n",
       "    </tr>\n",
       "    <tr>\n",
       "      <th>3</th>\n",
       "      <td>14-3210732</td>\n",
       "      <td>11/17/2014 08:08:00 AM</td>\n",
       "      <td>NaN</td>\n",
       "      <td>LARCENY/THEFT</td>\n",
       "      <td>LARCENY/THEFT</td>\n",
       "      <td>Theft</td>\n",
       "      <td>8</td>\n",
       "      <td>Monday</td>\n",
       "      <td>2100 Block ELMWOOD AV</td>\n",
       "      <td>Buffalo</td>\n",
       "      <td>...</td>\n",
       "      <td>2</td>\n",
       "      <td>2007</td>\n",
       "      <td>56</td>\n",
       "      <td>2</td>\n",
       "      <td>2008</td>\n",
       "      <td>District D</td>\n",
       "      <td>005600</td>\n",
       "      <td>36029005600</td>\n",
       "      <td>360290001102</td>\n",
       "      <td>360290163002007</td>\n",
       "    </tr>\n",
       "    <tr>\n",
       "      <th>4</th>\n",
       "      <td>15-1100268</td>\n",
       "      <td>04/20/2015 10:22:00 AM</td>\n",
       "      <td>NaN</td>\n",
       "      <td>LARCENY/THEFT</td>\n",
       "      <td>LARCENY/THEFT</td>\n",
       "      <td>Theft</td>\n",
       "      <td>10</td>\n",
       "      <td>Monday</td>\n",
       "      <td>2100 Block ELMWOOD AV</td>\n",
       "      <td>Buffalo</td>\n",
       "      <td>...</td>\n",
       "      <td>2</td>\n",
       "      <td>2007</td>\n",
       "      <td>56</td>\n",
       "      <td>2</td>\n",
       "      <td>2008</td>\n",
       "      <td>District D</td>\n",
       "      <td>005600</td>\n",
       "      <td>36029005600</td>\n",
       "      <td>360290001102</td>\n",
       "      <td>360290163002007</td>\n",
       "    </tr>\n",
       "  </tbody>\n",
       "</table>\n",
       "<p>5 rows × 31 columns</p>\n",
       "</div>"
      ],
      "text/plain": [
       "  Case Number       Incident Datetime  Incident ID Incident Type Primary  \\\n",
       "0  16-1660403  06/14/2016 01:20:00 AM          NaN               ASSAULT   \n",
       "1  16-3480266  12/13/2016 05:00:00 AM          NaN         LARCENY/THEFT   \n",
       "2  20-2010167  07/19/2020 03:09:00 AM          NaN               ASSAULT   \n",
       "3  14-3210732  11/17/2014 08:08:00 AM          NaN         LARCENY/THEFT   \n",
       "4  15-1100268  04/20/2015 10:22:00 AM          NaN         LARCENY/THEFT   \n",
       "\n",
       "                                Incident Description Parent Incident Type  \\\n",
       "0                                            ASSAULT              Assault   \n",
       "1                                      LARCENY/THEFT                Theft   \n",
       "2  Buffalo Police are investigating this report o...              Assault   \n",
       "3                                      LARCENY/THEFT                Theft   \n",
       "4                                      LARCENY/THEFT                Theft   \n",
       "\n",
       "   Hour of Day Day of Week                      Address     City  ...  \\\n",
       "0            1     Tuesday  E AMHERST ST & E AMHERST ST  Buffalo  ...   \n",
       "1            5     Tuesday      1000 Block E LOVEJOY ST  Buffalo  ...   \n",
       "2            3      Sunday    GRIDER ST & KENSINGTON WB  Buffalo  ...   \n",
       "3            8      Monday        2100 Block ELMWOOD AV  Buffalo  ...   \n",
       "4           10      Monday        2100 Block ELMWOOD AV  Buffalo  ...   \n",
       "\n",
       "  Census Block Group Census Block 2010 Census Tract  2010 Census Block Group  \\\n",
       "0                  2         2003                 55                       2   \n",
       "1                  4         4001                 23                       4   \n",
       "2                NaN          NaN                NaN                     NaN   \n",
       "3                  2         2007                 56                       2   \n",
       "4                  2         2007                 56                       2   \n",
       "\n",
       "  2010 Census Block  Police District TRACTCE20 GEOID20_tract  \\\n",
       "0              2005       District D    005500   36029005500   \n",
       "1              4001       District C    002300   36029002300   \n",
       "2               NaN              NaN   UNKNOWN       UNKNOWN   \n",
       "3              2008       District D    005600   36029005600   \n",
       "4              2008       District D    005600   36029005600   \n",
       "\n",
       "  GEOID20_blockgroup    GEOID20_block  \n",
       "0       360290001102  360290170002003  \n",
       "1       360290002004  360290034004001  \n",
       "2            UNKNOWN          UNKNOWN  \n",
       "3       360290001102  360290163002007  \n",
       "4       360290001102  360290163002007  \n",
       "\n",
       "[5 rows x 31 columns]"
      ]
     },
     "execution_count": 46,
     "metadata": {},
     "output_type": "execute_result"
    }
   ],
   "source": [
    "# Download the latest data from (https://data.buffalony.gov/Public-Safety/Crime-Incidents/d6g9-xbgu/data_preview)\n",
    "df = pd.read_csv(\"BUF Crime Data.csv\")\n",
    "df.head()"
   ]
  },
  {
   "cell_type": "markdown",
   "metadata": {},
   "source": [
    "## Step 3: Preliminary Analysis"
   ]
  },
  {
   "cell_type": "code",
   "execution_count": 47,
   "metadata": {},
   "outputs": [],
   "source": [
    "# Step 3: Preliminary Analysis\n",
    "    # - Data Profiling: Summary Statistics, Frequency counts, Data Types\n",
    "    # - Distribution Analysis: Histograms, boxplots\n",
    "    # - Correlation Exploration\n",
    "    # - Identify Duplicates\n",
    "    # - Missing values percentages and imputation strategies\n"
   ]
  },
  {
   "cell_type": "code",
   "execution_count": 48,
   "metadata": {},
   "outputs": [
    {
     "name": "stdout",
     "output_type": "stream",
     "text": [
      "<class 'pandas.core.frame.DataFrame'>\n",
      "RangeIndex: 307905 entries, 0 to 307904\n",
      "Data columns (total 31 columns):\n",
      " #   Column                   Non-Null Count   Dtype  \n",
      "---  ------                   --------------   -----  \n",
      " 0   Case Number              307905 non-null  object \n",
      " 1   Incident Datetime        307905 non-null  object \n",
      " 2   Incident ID              0 non-null       float64\n",
      " 3   Incident Type Primary    307905 non-null  object \n",
      " 4   Incident Description     307905 non-null  object \n",
      " 5   Parent Incident Type     307905 non-null  object \n",
      " 6   Hour of Day              307905 non-null  int64  \n",
      " 7   Day of Week              307905 non-null  object \n",
      " 8   Address                  307867 non-null  object \n",
      " 9   City                     307905 non-null  object \n",
      " 10  State                    307905 non-null  object \n",
      " 11  Location                 302098 non-null  object \n",
      " 12  Latitude                 307377 non-null  object \n",
      " 13  Longitude                307377 non-null  object \n",
      " 14  Created At               63841 non-null   object \n",
      " 15  updated_at               0 non-null       float64\n",
      " 16  zip_code                 305993 non-null  object \n",
      " 17  neighborhood             305029 non-null  object \n",
      " 18  Council District         305967 non-null  object \n",
      " 19  Council District 2011    305993 non-null  object \n",
      " 20  Census Tract             305029 non-null  object \n",
      " 21  Census Block Group       305029 non-null  object \n",
      " 22  Census Block             305029 non-null  object \n",
      " 23  2010 Census Tract        305029 non-null  object \n",
      " 24  2010 Census Block Group  305029 non-null  object \n",
      " 25  2010 Census Block        305029 non-null  object \n",
      " 26  Police District          305029 non-null  object \n",
      " 27  TRACTCE20                305166 non-null  object \n",
      " 28  GEOID20_tract            305166 non-null  object \n",
      " 29  GEOID20_blockgroup       305166 non-null  object \n",
      " 30  GEOID20_block            305166 non-null  object \n",
      "dtypes: float64(2), int64(1), object(28)\n",
      "memory usage: 72.8+ MB\n"
     ]
    }
   ],
   "source": [
    "# Check column names and data types\n",
    "df.info()"
   ]
  },
  {
   "cell_type": "code",
   "execution_count": 49,
   "metadata": {},
   "outputs": [
    {
     "name": "stdout",
     "output_type": "stream",
     "text": [
      "Missing value percentages: \n",
      " Incident ID                307905\n",
      "Address                        38\n",
      "Location                     5807\n",
      "Latitude                      528\n",
      "Longitude                     528\n",
      "Created At                 244064\n",
      "updated_at                 307905\n",
      "zip_code                     1912\n",
      "neighborhood                 2876\n",
      "Council District             1938\n",
      "Council District 2011        1912\n",
      "Census Tract                 2876\n",
      "Census Block Group           2876\n",
      "Census Block                 2876\n",
      "2010 Census Tract            2876\n",
      "2010 Census Block Group      2876\n",
      "2010 Census Block            2876\n",
      "Police District              2876\n",
      "TRACTCE20                    2739\n",
      "GEOID20_tract                2739\n",
      "GEOID20_blockgroup           2739\n",
      "GEOID20_block                2739\n",
      "dtype: int64\n"
     ]
    }
   ],
   "source": [
    "# Check missing values\n",
    "missing_val_counts = df.isna().sum()\n",
    "missing_val_counts = missing_val_counts[missing_val_counts > 0]\n",
    "if len(missing_val_counts) == 0:\n",
    "    print(\"No missing values\")\n",
    "else:\n",
    "    print(\"Missing value percentages: \\n\", missing_val_counts)\n"
   ]
  },
  {
   "cell_type": "code",
   "execution_count": 50,
   "metadata": {},
   "outputs": [
    {
     "name": "stdout",
     "output_type": "stream",
     "text": [
      "Missing value percentages: \n",
      " Incident ID                100.000000\n",
      "Address                      0.012341\n",
      "Location                     1.885971\n",
      "Latitude                     0.171481\n",
      "Longitude                    0.171481\n",
      "Created At                  79.266007\n",
      "updated_at                 100.000000\n",
      "zip_code                     0.620971\n",
      "neighborhood                 0.934054\n",
      "Council District             0.629415\n",
      "Council District 2011        0.620971\n",
      "Census Tract                 0.934054\n",
      "Census Block Group           0.934054\n",
      "Census Block                 0.934054\n",
      "2010 Census Tract            0.934054\n",
      "2010 Census Block Group      0.934054\n",
      "2010 Census Block            0.934054\n",
      "Police District              0.934054\n",
      "TRACTCE20                    0.889560\n",
      "GEOID20_tract                0.889560\n",
      "GEOID20_blockgroup           0.889560\n",
      "GEOID20_block                0.889560\n",
      "dtype: float64\n"
     ]
    }
   ],
   "source": [
    "# Checking missing value percentages\n",
    "missing_val_percentages = (df.isna().sum() / len(df)) * 100\n",
    "missing_val_percentages = missing_val_percentages[missing_val_percentages>0]\n",
    "if len(missing_val_percentages) == 0:\n",
    "    print(\"No missing values\")\n",
    "else:\n",
    "    print(\"Missing value percentages: \\n\", missing_val_percentages)"
   ]
  },
  {
   "cell_type": "code",
   "execution_count": 51,
   "metadata": {},
   "outputs": [
    {
     "data": {
      "text/plain": [
       "False"
      ]
     },
     "execution_count": 51,
     "metadata": {},
     "output_type": "execute_result"
    }
   ],
   "source": [
    "# Check for duplicates\n",
    "df.duplicated().any()"
   ]
  },
  {
   "cell_type": "markdown",
   "metadata": {},
   "source": [
    "## Step 4: Data Cleaning"
   ]
  },
  {
   "cell_type": "code",
   "execution_count": 52,
   "metadata": {},
   "outputs": [],
   "source": [
    "# Drop unneccesary columns\n",
    "cols_to_drop = [\"Incident ID\", \"Created At\", \"updated_at\", \"Council District 2011\", \"Census Tract\", \"Census Block Group\", \"Census Block\", \n",
    "                \"2010 Census Tract \", \"2010 Census Block Group\", \n",
    "                \"2010 Census Block\", \"TRACTCE20\", \"GEOID20_tract\", \n",
    "                \"GEOID20_blockgroup\", \"GEOID20_block\"]\n",
    "\n",
    "df = df.drop(columns=cols_to_drop)"
   ]
  },
  {
   "cell_type": "code",
   "execution_count": 53,
   "metadata": {},
   "outputs": [],
   "source": [
    "# Convert datetime to proper format\n",
    "df['Incident Datetime'] = pd.to_datetime(df['Incident Datetime']).dt.strftime('%Y-%m-%d %H:%M:%S')"
   ]
  },
  {
   "cell_type": "code",
   "execution_count": 54,
   "metadata": {},
   "outputs": [],
   "source": [
    "# Rename columns and reorder for better understanding\n",
    "df.rename(columns={'Incident Type Primary': 'Incident Subcategory',\n",
    "                   'Parent Incident Type': 'Incident Category'}, inplace=True)\n",
    "\n",
    "new_col_order = ['Case Number', 'Incident Datetime', 'Incident Category','Incident Subcategory',\n",
    "       'Incident Description',  'Hour of Day', 'Day of Week', 'Address', 'City', 'State', 'Location', 'Latitude',\n",
    "       'Longitude', 'zip_code', 'neighborhood', 'Council District', 'Police District']\n",
    "\n",
    "df = df[new_col_order]"
   ]
  },
  {
   "cell_type": "code",
   "execution_count": 55,
   "metadata": {},
   "outputs": [],
   "source": [
    "# Fix missing values\n",
    "# Drop the rows with null values in location (Since the % of missing values is < 2%)\n",
    "df = df.dropna(subset=['Location'])"
   ]
  },
  {
   "cell_type": "code",
   "execution_count": 56,
   "metadata": {},
   "outputs": [],
   "source": [
    "# Blank address and council district to be updated as \"UNKNOWN\"\n",
    "df['Address'] = df['Address'].fillna('UNKNOWN')\n",
    "df['Council District'] = df['Council District'].fillna('UNKNOWN')"
   ]
  },
  {
   "cell_type": "code",
   "execution_count": 57,
   "metadata": {},
   "outputs": [
    {
     "name": "stdout",
     "output_type": "stream",
     "text": [
      "No missing values\n"
     ]
    }
   ],
   "source": [
    "# Checking missing value percentages again\n",
    "missing_val_percentages = (df.isnull().sum() / len(df)) * 100\n",
    "missing_val_percentages = missing_val_percentages[missing_val_percentages>0]\n",
    "if len(missing_val_percentages) == 0:\n",
    "    print(\"No missing values\")\n",
    "else:\n",
    "    print(\"Missing value percentages: \\n\", missing_val_percentages)"
   ]
  },
  {
   "cell_type": "code",
   "execution_count": 58,
   "metadata": {},
   "outputs": [
    {
     "name": "stdout",
     "output_type": "stream",
     "text": [
      "<class 'pandas.core.frame.DataFrame'>\n",
      "Index: 302098 entries, 0 to 307904\n",
      "Data columns (total 17 columns):\n",
      " #   Column                Non-Null Count   Dtype \n",
      "---  ------                --------------   ----- \n",
      " 0   Case Number           302098 non-null  object\n",
      " 1   Incident Datetime     302098 non-null  object\n",
      " 2   Incident Category     302098 non-null  object\n",
      " 3   Incident Subcategory  302098 non-null  object\n",
      " 4   Incident Description  302098 non-null  object\n",
      " 5   Hour of Day           302098 non-null  int64 \n",
      " 6   Day of Week           302098 non-null  object\n",
      " 7   Address               302098 non-null  object\n",
      " 8   City                  302098 non-null  object\n",
      " 9   State                 302098 non-null  object\n",
      " 10  Location              302098 non-null  object\n",
      " 11  Latitude              302098 non-null  object\n",
      " 12  Longitude             302098 non-null  object\n",
      " 13  zip_code              302098 non-null  object\n",
      " 14  neighborhood          302098 non-null  object\n",
      " 15  Council District      302098 non-null  object\n",
      " 16  Police District       302098 non-null  object\n",
      "dtypes: int64(1), object(16)\n",
      "memory usage: 41.5+ MB\n"
     ]
    }
   ],
   "source": [
    "df.info()"
   ]
  },
  {
   "cell_type": "code",
   "execution_count": 59,
   "metadata": {},
   "outputs": [
    {
     "data": {
      "text/plain": [
       "Incident Category\n",
       "Theft                   131417\n",
       "Assault                  61029\n",
       "Breaking & Entering      55395\n",
       "Theft of Vehicle         28763\n",
       "Robbery                  18884\n",
       "Sexual Assault            2481\n",
       "Other Sexual Offense      2224\n",
       "Homicide                  1051\n",
       "Sexual Offense             854\n",
       "Name: count, dtype: int64"
      ]
     },
     "execution_count": 59,
     "metadata": {},
     "output_type": "execute_result"
    }
   ],
   "source": [
    "# Check for data inconsistencies and spelling mistakes\n",
    "df['Incident Category'].value_counts()"
   ]
  },
  {
   "cell_type": "code",
   "execution_count": 60,
   "metadata": {},
   "outputs": [
    {
     "data": {
      "text/plain": [
       "Incident Subcategory\n",
       "LARCENY/THEFT               129438\n",
       "ASSAULT                      60786\n",
       "BURGLARY                     55311\n",
       "UUV                          28759\n",
       "ROBBERY                      18878\n",
       "RAPE                          2887\n",
       "SEXUAL ABUSE                  2665\n",
       "THEFT OF SERVICES             1942\n",
       "MURDER                         963\n",
       "AGGR ASSAULT                   120\n",
       "Assault                        114\n",
       "Breaking & Entering             84\n",
       "CRIM NEGLIGENT HOMICIDE         70\n",
       "Theft                           37\n",
       "MANSLAUGHTER                    17\n",
       "AGG ASSAULT ON P/OFFICER         9\n",
       "Robbery                          6\n",
       "Sexual Assault                   5\n",
       "Theft of Vehicle                 4\n",
       "Other Sexual Offense             2\n",
       "Homicide                         1\n",
       "Name: count, dtype: int64"
      ]
     },
     "execution_count": 60,
     "metadata": {},
     "output_type": "execute_result"
    }
   ],
   "source": [
    "df['Incident Subcategory'].value_counts()"
   ]
  },
  {
   "cell_type": "code",
   "execution_count": 61,
   "metadata": {},
   "outputs": [
    {
     "data": {
      "text/plain": [
       "Incident Description\n",
       "Buffalo Police are investigating this report of a crime.  It is important to note that this is very preliminary information and further investigation as to the facts and circumstances of this report may be necessary.    294204\n",
       "Buffalo Police are investigating this report of a crime. It is important to note that this is very preliminary information and further investigation as to the facts and circumstances of this report may be necessary.       3716\n",
       "LARCENY/THEFT                                                                                                                                                                                                                 2010\n",
       "BURGLARY                                                                                                                                                                                                                      1058\n",
       "ASSAULT                                                                                                                                                                                                                        703\n",
       "SEXUAL ABUSE                                                                                                                                                                                                                   149\n",
       "UUV                                                                                                                                                                                                                            111\n",
       "RAPE                                                                                                                                                                                                                            71\n",
       "ROBBERY                                                                                                                                                                                                                         36\n",
       "CRIM NEGLIGENT HOMICIDE                                                                                                                                                                                                         22\n",
       "THEFT OF SERVICES                                                                                                                                                                                                               12\n",
       "AGGR ASSAULT                                                                                                                                                                                                                     2\n",
       "MURDER                                                                                                                                                                                                                           2\n",
       "AGG ASSAULT ON P/OFFICER                                                                                                                                                                                                         2\n",
       "Name: count, dtype: int64"
      ]
     },
     "execution_count": 61,
     "metadata": {},
     "output_type": "execute_result"
    }
   ],
   "source": [
    "df['Incident Description'].value_counts()"
   ]
  },
  {
   "cell_type": "code",
   "execution_count": 62,
   "metadata": {},
   "outputs": [
    {
     "data": {
      "text/plain": [
       "Council District\n",
       "FILLMORE      51355\n",
       "ELLICOTT      43661\n",
       "MASTEN        37748\n",
       "NORTH         34261\n",
       "LOVEJOY       33290\n",
       "NIAGARA       30453\n",
       "UNIVERSITY    30308\n",
       "DELAWARE      20000\n",
       "SOUTH         19635\n",
       "UNNOWN         1361\n",
       "UNKNOWN          26\n",
       "Name: count, dtype: int64"
      ]
     },
     "execution_count": 62,
     "metadata": {},
     "output_type": "execute_result"
    }
   ],
   "source": [
    "df['Council District'].value_counts()"
   ]
  },
  {
   "cell_type": "code",
   "execution_count": 63,
   "metadata": {},
   "outputs": [],
   "source": [
    "df['Incident Subcategory'] = df['Incident Subcategory'].replace({'ASSAULT': 'Assault', 'ROBBERY': 'Robbery'})\n",
    "df['Incident Description'] = df['Incident Description'].replace({'Buffalo Police are investigating this report of a crime.  It is important to note that this is very preliminary information and further investigation as to the facts and circumstances of this report may be necessary.': 'Under Investigation',\n",
    "                                                                  'Buffalo Police are investigating this report of a crime. It is important to note that this is very preliminary information and further investigation as to the facts and circumstances of this report may be necessary.': 'Under Investigation'})\n",
    "df['Council District'] = df['Council District'].replace('UNNOWN', 'UNKNOWN')\n"
   ]
  },
  {
   "cell_type": "markdown",
   "metadata": {},
   "source": [
    "## Step 5: Save the dataframe as a csv"
   ]
  },
  {
   "cell_type": "code",
   "execution_count": 64,
   "metadata": {},
   "outputs": [],
   "source": [
    "# Save a local copy for future reference\n",
    "df.to_csv('buf_crimedata_cleaned.csv', index=False)"
   ]
  },
  {
   "cell_type": "code",
   "execution_count": 65,
   "metadata": {},
   "outputs": [],
   "source": [
    "# CREATE TABLE IF NOT EXISTS public.buf_crimes\n",
    "# (\n",
    "#     case_number character varying(30) ,\n",
    "# \tincident_datetime timestamp without time zone,\n",
    "#     incident_category character varying(50) ,\n",
    "#     incident_subcategory character varying(50) ,\n",
    "#     incident_desc character varying(250) ,\n",
    "#     hour_of_day bigint,\n",
    "#     dow character varying(30) ,\n",
    "#     address character varying(100) ,\n",
    "#     city character varying(30) ,\n",
    "#     state character varying(5) ,\n",
    "#     location character varying(50) ,\n",
    "#     latitude numeric,\n",
    "#     longitude numeric,\n",
    "#     zip_code character varying(10) ,\n",
    "#     neighborhood character varying(50) ,\n",
    "#     council_disc character varying(30) ,\n",
    "#     police_dist character varying(30) \n",
    "    \n",
    "# )"
   ]
  }
 ],
 "metadata": {
  "kernelspec": {
   "display_name": "Python 3",
   "language": "python",
   "name": "python3"
  },
  "language_info": {
   "codemirror_mode": {
    "name": "ipython",
    "version": 3
   },
   "file_extension": ".py",
   "mimetype": "text/x-python",
   "name": "python",
   "nbconvert_exporter": "python",
   "pygments_lexer": "ipython3",
   "version": "3.11.9"
  }
 },
 "nbformat": 4,
 "nbformat_minor": 2
}
